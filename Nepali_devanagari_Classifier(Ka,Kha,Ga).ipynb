{
 "cells": [
  {
   "cell_type": "code",
   "execution_count": 1,
   "metadata": {
    "colab": {},
    "colab_type": "code",
    "id": "W5p3lgqBzqmH"
   },
   "outputs": [],
   "source": [
    "import numpy as np\n",
    "import tensorflow as tf\n",
    "from tensorflow import keras\n",
    "import matplotlib.pyplot as plt\n",
    "from keras.preprocessing.image import ImageDataGenerator, array_to_img, img_to_array, load_img\n",
    "from keras.applications.vgg16 import VGG16\n",
    "from keras.applications.vgg16 import preprocess_input\n",
    "from keras.layers import Input, Lambda, Dense, Flatten,Dropout\n",
    "from keras.models import Model\n",
    "from keras.optimizers import Adam"
   ]
  },
  {
   "cell_type": "code",
   "execution_count": 2,
   "metadata": {
    "colab": {
     "base_uri": "https://localhost:8080/",
     "height": 34
    },
    "colab_type": "code",
    "id": "9AGeYP9hzqmL",
    "outputId": "cf7636a5-d41b-47c0-e1cb-128e7ebbfaa3"
   },
   "outputs": [
    {
     "name": "stderr",
     "output_type": "stream",
     "text": [
      "Using TensorFlow backend.\n"
     ]
    }
   ],
   "source": [
    "\n",
    "train_datagen = ImageDataGenerator(\n",
    "        rotation_range=40,\n",
    "        width_shift_range=0.2,\n",
    "        height_shift_range=0.2,\n",
    "        rescale=1./255,\n",
    "        shear_range=0.2,\n",
    "        zoom_range=0.2,\n",
    "        horizontal_flip=True,\n",
    "        fill_mode='nearest')"
   ]
  },
  {
   "cell_type": "code",
   "execution_count": 3,
   "metadata": {
    "colab": {},
    "colab_type": "code",
    "id": "DDp5-7CwzqmN"
   },
   "outputs": [],
   "source": [
    "test_datagen=ImageDataGenerator(rescale=1./255)"
   ]
  },
  {
   "cell_type": "code",
   "execution_count": 12,
   "metadata": {
    "colab": {
     "base_uri": "https://localhost:8080/",
     "height": 17
    },
    "colab_type": "code",
    "id": "E6_VcIHX2lIc",
    "outputId": "2f21788f-d510-404c-9153-51ca68530760"
   },
   "outputs": [],
   "source": [
    "data= !unzip data\\ \\(2\\).zip"
   ]
  },
  {
   "cell_type": "code",
   "execution_count": null,
   "metadata": {
    "colab": {},
    "colab_type": "code",
    "id": "7277Fc6x2k0O"
   },
   "outputs": [],
   "source": []
  },
  {
   "cell_type": "code",
   "execution_count": 13,
   "metadata": {
    "colab": {},
    "colab_type": "code",
    "id": "CqnA5IojzqmQ"
   },
   "outputs": [],
   "source": [
    "batch_size=30"
   ]
  },
  {
   "cell_type": "code",
   "execution_count": 14,
   "metadata": {
    "colab": {
     "base_uri": "https://localhost:8080/",
     "height": 34
    },
    "colab_type": "code",
    "id": "aF1bndfyzqmS",
    "outputId": "75e9f71a-f333-4a82-9d54-b323f97324ae"
   },
   "outputs": [
    {
     "name": "stdout",
     "output_type": "stream",
     "text": [
      "Found 61200 images belonging to 36 classes.\n"
     ]
    }
   ],
   "source": [
    "# this is a generator that will read pictures found in\n",
    "# subfolers of 'data/train', and indefinitely generate\n",
    "# batches of augmented image data\n",
    "train_generator = train_datagen.flow_from_directory(\n",
    "        'data/Traning_data',  # this is the target directory\n",
    "        target_size=(150, 150),  # all images will be resized to 150x150\n",
    "        batch_size=batch_size,\n",
    "        class_mode='categorical',\n",
    "        color_mode=\"rgb\")  # since we use categorical_crossentropy loss, we need binary labels\n",
    "\n"
   ]
  },
  {
   "cell_type": "code",
   "execution_count": 15,
   "metadata": {
    "colab": {
     "base_uri": "https://localhost:8080/",
     "height": 34
    },
    "colab_type": "code",
    "id": "OQs_Q2GEzqmW",
    "outputId": "f1765b8c-5067-43fb-d755-f6fe8c35eb5a"
   },
   "outputs": [
    {
     "name": "stdout",
     "output_type": "stream",
     "text": [
      "Found 11100 images belonging to 36 classes.\n"
     ]
    }
   ],
   "source": [
    "# this is a similar generator, for validation data\n",
    "validation_generator = test_datagen.flow_from_directory(\n",
    "        'data/Test_data',\n",
    "        target_size=(150, 150),\n",
    "        batch_size=batch_size,\n",
    "        class_mode='categorical',\n",
    "        color_mode=\"rgb\")"
   ]
  },
  {
   "cell_type": "code",
   "execution_count": null,
   "metadata": {
    "colab": {},
    "colab_type": "code",
    "id": "GJnIqtbszqmZ"
   },
   "outputs": [],
   "source": []
  },
  {
   "cell_type": "code",
   "execution_count": null,
   "metadata": {
    "colab": {},
    "colab_type": "code",
    "id": "YVLghceSzqmc",
    "outputId": "fe7e0c96-c9df-4cdb-e9cb-a3d2e2f13985"
   },
   "outputs": [
    {
     "data": {
      "text/plain": [
       "\"# Create base model\\nbase_model = keras.applications.Xception(\\n    weights='imagenet',\\n    input_shape=(150, 150, 3),\\n    include_top=False)\\n# Freeze base model\\nbase_model.trainable = False\\n\\n# Create new model on top.\\ninputs = keras.Input(shape=(150, 150, 3))\\nx = base_model(inputs, training=False)\\nx = keras.layers.GlobalAveragePooling2D()(x)\\noutputs = keras.layers.Dense(1)(x)\\nmodel = keras.Model(inputs, outputs)\\n\\nloss_fn = keras.losses.BinaryCrossentropy(from_logits=True)\\noptimizer = keras.optimizers.Adam()\\n\\n# Iterate over the batches of a dataset.\\nfor inputs, targets in new_dataset:\\n    # Open a GradientTape.\\n    with tf.GradientTape() as tape:\\n        # Forward pass.\\n        predictions = model(inputs)\\n        # Compute the loss value for this batch.\\n        loss_value = loss_fn(targets, predictions)\\n\\n    # Get gradients of loss wrt the *trainable* weights.\\n    gradients = tape.gradient(loss_value, model.trainable_weights)\\n    # Update the weights of the model.\\n    optimizer.apply_gradients(zip(gradients, model.trainable_weights))\""
      ]
     },
     "execution_count": 31,
     "metadata": {
      "tags": []
     },
     "output_type": "execute_result"
    }
   ],
   "source": [
    "#dont run\n",
    "\n",
    "'''# Create base model\n",
    "base_model = keras.applications.Xception(\n",
    "    weights='imagenet',\n",
    "    input_shape=(150, 150, 3),\n",
    "    include_top=False)\n",
    "# Freeze base model\n",
    "base_model.trainable = False\n",
    "\n",
    "# Create new model on top.\n",
    "inputs = keras.Input(shape=(150, 150, 3))\n",
    "x = base_model(inputs, training=False)\n",
    "x = keras.layers.GlobalAveragePooling2D()(x)\n",
    "outputs = keras.layers.Dense(1)(x)\n",
    "model = keras.Model(inputs, outputs)\n",
    "\n",
    "loss_fn = keras.losses.BinaryCrossentropy(from_logits=True)\n",
    "optimizer = keras.optimizers.Adam()\n",
    "\n",
    "# Iterate over the batches of a dataset.\n",
    "for inputs, targets in new_dataset:\n",
    "    # Open a GradientTape.\n",
    "    with tf.GradientTape() as tape:\n",
    "        # Forward pass.\n",
    "        predictions = model(inputs)\n",
    "        # Compute the loss value for this batch.\n",
    "        loss_value = loss_fn(targets, predictions)\n",
    "\n",
    "    # Get gradients of loss wrt the *trainable* weights.\n",
    "    gradients = tape.gradient(loss_value, model.trainable_weights)\n",
    "    # Update the weights of the model.\n",
    "    optimizer.apply_gradients(zip(gradients, model.trainable_weights))'''"
   ]
  },
  {
   "cell_type": "code",
   "execution_count": 10,
   "metadata": {
    "colab": {},
    "colab_type": "code",
    "id": "wVzt7O4Pzqmi"
   },
   "outputs": [],
   "source": []
  },
  {
   "cell_type": "code",
   "execution_count": 6,
   "metadata": {
    "colab": {},
    "colab_type": "code",
    "id": "6sBHDwZGzqmn"
   },
   "outputs": [],
   "source": [
    "IMAGE_SIZE=[150,150]"
   ]
  },
  {
   "cell_type": "code",
   "execution_count": 18,
   "metadata": {
    "colab": {},
    "colab_type": "code",
    "id": "n83o4kI1zqms"
   },
   "outputs": [],
   "source": [
    "# add preprocessing layer to the front of VGG\n",
    "vgg = VGG16(input_shape=IMAGE_SIZE + [3], weights='imagenet', include_top=False)"
   ]
  },
  {
   "cell_type": "code",
   "execution_count": 8,
   "metadata": {
    "colab": {
     "base_uri": "https://localhost:8080/",
     "height": 790
    },
    "colab_type": "code",
    "id": "_qOi-u720hMS",
    "outputId": "ffcb5279-89fc-4f34-8041-953af6a22507"
   },
   "outputs": [
    {
     "name": "stdout",
     "output_type": "stream",
     "text": [
      "Model: \"vgg16\"\n",
      "_________________________________________________________________\n",
      "Layer (type)                 Output Shape              Param #   \n",
      "=================================================================\n",
      "input_1 (InputLayer)         (None, 150, 150, 3)       0         \n",
      "_________________________________________________________________\n",
      "block1_conv1 (Conv2D)        (None, 150, 150, 64)      1792      \n",
      "_________________________________________________________________\n",
      "block1_conv2 (Conv2D)        (None, 150, 150, 64)      36928     \n",
      "_________________________________________________________________\n",
      "block1_pool (MaxPooling2D)   (None, 75, 75, 64)        0         \n",
      "_________________________________________________________________\n",
      "block2_conv1 (Conv2D)        (None, 75, 75, 128)       73856     \n",
      "_________________________________________________________________\n",
      "block2_conv2 (Conv2D)        (None, 75, 75, 128)       147584    \n",
      "_________________________________________________________________\n",
      "block2_pool (MaxPooling2D)   (None, 37, 37, 128)       0         \n",
      "_________________________________________________________________\n",
      "block3_conv1 (Conv2D)        (None, 37, 37, 256)       295168    \n",
      "_________________________________________________________________\n",
      "block3_conv2 (Conv2D)        (None, 37, 37, 256)       590080    \n",
      "_________________________________________________________________\n",
      "block3_conv3 (Conv2D)        (None, 37, 37, 256)       590080    \n",
      "_________________________________________________________________\n",
      "block3_pool (MaxPooling2D)   (None, 18, 18, 256)       0         \n",
      "_________________________________________________________________\n",
      "block4_conv1 (Conv2D)        (None, 18, 18, 512)       1180160   \n",
      "_________________________________________________________________\n",
      "block4_conv2 (Conv2D)        (None, 18, 18, 512)       2359808   \n",
      "_________________________________________________________________\n",
      "block4_conv3 (Conv2D)        (None, 18, 18, 512)       2359808   \n",
      "_________________________________________________________________\n",
      "block4_pool (MaxPooling2D)   (None, 9, 9, 512)         0         \n",
      "_________________________________________________________________\n",
      "block5_conv1 (Conv2D)        (None, 9, 9, 512)         2359808   \n",
      "_________________________________________________________________\n",
      "block5_conv2 (Conv2D)        (None, 9, 9, 512)         2359808   \n",
      "_________________________________________________________________\n",
      "block5_conv3 (Conv2D)        (None, 9, 9, 512)         2359808   \n",
      "_________________________________________________________________\n",
      "block5_pool (MaxPooling2D)   (None, 4, 4, 512)         0         \n",
      "=================================================================\n",
      "Total params: 14,714,688\n",
      "Trainable params: 14,714,688\n",
      "Non-trainable params: 0\n",
      "_________________________________________________________________\n"
     ]
    }
   ],
   "source": [
    "vgg.summary()"
   ]
  },
  {
   "cell_type": "code",
   "execution_count": 16,
   "metadata": {
    "colab": {
     "base_uri": "https://localhost:8080/",
     "height": 1000
    },
    "colab_type": "code",
    "id": "7iClDv9R0p7u",
    "outputId": "af59a856-4cfe-49de-d65b-5f0600cae764"
   },
   "outputs": [
    {
     "name": "stdout",
     "output_type": "stream",
     "text": [
      "layerinput_1frozen\n",
      "layerblock1_conv1frozen\n",
      "layerblock1_conv2frozen\n",
      "layerblock1_poolfrozen\n",
      "layerblock2_conv1frozen\n",
      "layerblock2_conv2frozen\n",
      "layerblock2_poolfrozen\n",
      "layerblock3_conv1frozen\n",
      "layerblock3_conv2frozen\n",
      "layerblock3_conv3frozen\n",
      "layerblock3_poolfrozen\n",
      "layerblock4_conv1frozen\n",
      "layerblock4_conv2frozen\n",
      "layerblock4_conv3frozen\n",
      "layerblock4_poolfrozen\n",
      "Model: \"model_3\"\n",
      "_________________________________________________________________\n",
      "Layer (type)                 Output Shape              Param #   \n",
      "=================================================================\n",
      "input_1 (InputLayer)         (None, 150, 150, 3)       0         \n",
      "_________________________________________________________________\n",
      "block1_conv1 (Conv2D)        (None, 150, 150, 64)      1792      \n",
      "_________________________________________________________________\n",
      "block1_conv2 (Conv2D)        (None, 150, 150, 64)      36928     \n",
      "_________________________________________________________________\n",
      "block1_pool (MaxPooling2D)   (None, 75, 75, 64)        0         \n",
      "_________________________________________________________________\n",
      "block2_conv1 (Conv2D)        (None, 75, 75, 128)       73856     \n",
      "_________________________________________________________________\n",
      "block2_conv2 (Conv2D)        (None, 75, 75, 128)       147584    \n",
      "_________________________________________________________________\n",
      "block2_pool (MaxPooling2D)   (None, 37, 37, 128)       0         \n",
      "_________________________________________________________________\n",
      "block3_conv1 (Conv2D)        (None, 37, 37, 256)       295168    \n",
      "_________________________________________________________________\n",
      "block3_conv2 (Conv2D)        (None, 37, 37, 256)       590080    \n",
      "_________________________________________________________________\n",
      "block3_conv3 (Conv2D)        (None, 37, 37, 256)       590080    \n",
      "_________________________________________________________________\n",
      "block3_pool (MaxPooling2D)   (None, 18, 18, 256)       0         \n",
      "_________________________________________________________________\n",
      "block4_conv1 (Conv2D)        (None, 18, 18, 512)       1180160   \n",
      "_________________________________________________________________\n",
      "block4_conv2 (Conv2D)        (None, 18, 18, 512)       2359808   \n",
      "_________________________________________________________________\n",
      "block4_conv3 (Conv2D)        (None, 18, 18, 512)       2359808   \n",
      "_________________________________________________________________\n",
      "block4_pool (MaxPooling2D)   (None, 9, 9, 512)         0         \n",
      "_________________________________________________________________\n",
      "block5_conv1 (Conv2D)        (None, 9, 9, 512)         2359808   \n",
      "_________________________________________________________________\n",
      "block5_conv2 (Conv2D)        (None, 9, 9, 512)         2359808   \n",
      "_________________________________________________________________\n",
      "block5_conv3 (Conv2D)        (None, 9, 9, 512)         2359808   \n",
      "_________________________________________________________________\n",
      "block5_pool (MaxPooling2D)   (None, 4, 4, 512)         0         \n",
      "_________________________________________________________________\n",
      "flatten_3 (Flatten)          (None, 8192)              0         \n",
      "_________________________________________________________________\n",
      "dense_5 (Dense)              (None, 1000)              8193000   \n",
      "_________________________________________________________________\n",
      "dropout_3 (Dropout)          (None, 1000)              0         \n",
      "_________________________________________________________________\n",
      "dense_6 (Dense)              (None, 36)                36036     \n",
      "=================================================================\n",
      "Total params: 22,943,724\n",
      "Trainable params: 15,308,460\n",
      "Non-trainable params: 7,635,264\n",
      "_________________________________________________________________\n"
     ]
    }
   ],
   "source": [
    "#Transfer learning with fine tuning\n",
    "# don't train existing weights\n",
    "'''for layer in vgg.layers:\n",
    "    if layer.name == 'block5_conv1':\n",
    "      break\n",
    "    layer.trainable=False\n",
    "    print('layer'+layer.name + 'frozen')\n",
    "\n",
    "    \n",
    "x=vgg.layers[-1].output    \n",
    "x = Flatten()(x)\n",
    "x = Dense(1000, activation='relu')(x)\n",
    "x = Dropout(0.2)(x)\n",
    "prediction = Dense(36, activation='softmax')(x)\n",
    "\n",
    "# create a model object\n",
    "model = Model(inputs=vgg.input, outputs=prediction) \n",
    "\n",
    "model.compile(optimizer=Adam(lr=0.001),loss='categorical_crossentropy', metrics=['accuracy'])\n",
    "\n",
    "model.summary()'''"
   ]
  },
  {
   "cell_type": "code",
   "execution_count": null,
   "metadata": {
    "colab": {},
    "colab_type": "code",
    "id": "BkJ53rFx02VA"
   },
   "outputs": [],
   "source": []
  },
  {
   "cell_type": "code",
   "execution_count": null,
   "metadata": {
    "colab": {},
    "colab_type": "code",
    "id": "DH05BE0702bo"
   },
   "outputs": [],
   "source": []
  },
  {
   "cell_type": "code",
   "execution_count": null,
   "metadata": {
    "colab": {},
    "colab_type": "code",
    "id": "1NBiQKKI02eC"
   },
   "outputs": [],
   "source": []
  },
  {
   "cell_type": "code",
   "execution_count": 19,
   "metadata": {
    "colab": {},
    "colab_type": "code",
    "id": "RzT7P742zqmw"
   },
   "outputs": [],
   "source": [
    "#Transfer learning\n",
    "for layer in vgg.layers:\n",
    "    layer.trainable = False\n",
    "    \n",
    "    \n",
    "x = Flatten()(vgg.output)\n",
    "x = Dense(1000, activation='relu')(x)\n",
    "x = Dropout(0.2)(x)\n",
    "prediction = Dense(36, activation='softmax')(x)\n",
    "\n",
    "# create a model object\n",
    "model = Model(inputs=vgg.input, outputs=prediction)    "
   ]
  },
  {
   "cell_type": "code",
   "execution_count": 20,
   "metadata": {
    "colab": {
     "base_uri": "https://localhost:8080/",
     "height": 924
    },
    "colab_type": "code",
    "id": "n4Rrev2zzqmy",
    "outputId": "015ddc00-bd8a-44b9-e122-58b22879fc75"
   },
   "outputs": [
    {
     "name": "stdout",
     "output_type": "stream",
     "text": [
      "Model: \"model_4\"\n",
      "_________________________________________________________________\n",
      "Layer (type)                 Output Shape              Param #   \n",
      "=================================================================\n",
      "input_2 (InputLayer)         (None, 150, 150, 3)       0         \n",
      "_________________________________________________________________\n",
      "block1_conv1 (Conv2D)        (None, 150, 150, 64)      1792      \n",
      "_________________________________________________________________\n",
      "block1_conv2 (Conv2D)        (None, 150, 150, 64)      36928     \n",
      "_________________________________________________________________\n",
      "block1_pool (MaxPooling2D)   (None, 75, 75, 64)        0         \n",
      "_________________________________________________________________\n",
      "block2_conv1 (Conv2D)        (None, 75, 75, 128)       73856     \n",
      "_________________________________________________________________\n",
      "block2_conv2 (Conv2D)        (None, 75, 75, 128)       147584    \n",
      "_________________________________________________________________\n",
      "block2_pool (MaxPooling2D)   (None, 37, 37, 128)       0         \n",
      "_________________________________________________________________\n",
      "block3_conv1 (Conv2D)        (None, 37, 37, 256)       295168    \n",
      "_________________________________________________________________\n",
      "block3_conv2 (Conv2D)        (None, 37, 37, 256)       590080    \n",
      "_________________________________________________________________\n",
      "block3_conv3 (Conv2D)        (None, 37, 37, 256)       590080    \n",
      "_________________________________________________________________\n",
      "block3_pool (MaxPooling2D)   (None, 18, 18, 256)       0         \n",
      "_________________________________________________________________\n",
      "block4_conv1 (Conv2D)        (None, 18, 18, 512)       1180160   \n",
      "_________________________________________________________________\n",
      "block4_conv2 (Conv2D)        (None, 18, 18, 512)       2359808   \n",
      "_________________________________________________________________\n",
      "block4_conv3 (Conv2D)        (None, 18, 18, 512)       2359808   \n",
      "_________________________________________________________________\n",
      "block4_pool (MaxPooling2D)   (None, 9, 9, 512)         0         \n",
      "_________________________________________________________________\n",
      "block5_conv1 (Conv2D)        (None, 9, 9, 512)         2359808   \n",
      "_________________________________________________________________\n",
      "block5_conv2 (Conv2D)        (None, 9, 9, 512)         2359808   \n",
      "_________________________________________________________________\n",
      "block5_conv3 (Conv2D)        (None, 9, 9, 512)         2359808   \n",
      "_________________________________________________________________\n",
      "block5_pool (MaxPooling2D)   (None, 4, 4, 512)         0         \n",
      "_________________________________________________________________\n",
      "flatten_4 (Flatten)          (None, 8192)              0         \n",
      "_________________________________________________________________\n",
      "dense_7 (Dense)              (None, 1000)              8193000   \n",
      "_________________________________________________________________\n",
      "dropout_4 (Dropout)          (None, 1000)              0         \n",
      "_________________________________________________________________\n",
      "dense_8 (Dense)              (None, 36)                36036     \n",
      "=================================================================\n",
      "Total params: 22,943,724\n",
      "Trainable params: 8,229,036\n",
      "Non-trainable params: 14,714,688\n",
      "_________________________________________________________________\n"
     ]
    }
   ],
   "source": [
    "# view the structure of the model\n",
    "model.summary()\n"
   ]
  },
  {
   "cell_type": "code",
   "execution_count": 21,
   "metadata": {
    "colab": {},
    "colab_type": "code",
    "id": "ZhAMKdpbzqm0"
   },
   "outputs": [],
   "source": [
    "# tell the model what cost and optimization method to use\n",
    "model.compile(\n",
    "  loss='categorical_crossentropy',\n",
    "  optimizer='adam',\n",
    "  metrics=['accuracy']\n",
    ")"
   ]
  },
  {
   "cell_type": "code",
   "execution_count": 22,
   "metadata": {
    "colab": {
     "base_uri": "https://localhost:8080/",
     "height": 1000
    },
    "colab_type": "code",
    "id": "NXR5HNzuzqm2",
    "outputId": "5e7ba3bf-526b-4c0a-a42e-d8cb7f492ccc"
   },
   "outputs": [
    {
     "name": "stdout",
     "output_type": "stream",
     "text": [
      "Epoch 1/90\n",
      "66/66 [==============================] - 11s 174ms/step - loss: 3.4882 - accuracy: 0.1162 - val_loss: 2.9263 - val_accuracy: 0.2090\n",
      "Epoch 2/90\n",
      "66/66 [==============================] - 11s 159ms/step - loss: 2.6658 - accuracy: 0.2429 - val_loss: 1.9436 - val_accuracy: 0.4500\n",
      "Epoch 3/90\n",
      "66/66 [==============================] - 10s 159ms/step - loss: 2.2737 - accuracy: 0.3510 - val_loss: 1.9086 - val_accuracy: 0.4564\n",
      "Epoch 4/90\n",
      "66/66 [==============================] - 10s 158ms/step - loss: 2.0452 - accuracy: 0.3970 - val_loss: 1.5904 - val_accuracy: 0.5564\n",
      "Epoch 5/90\n",
      "66/66 [==============================] - 11s 161ms/step - loss: 1.8954 - accuracy: 0.4510 - val_loss: 1.2037 - val_accuracy: 0.5821\n",
      "Epoch 6/90\n",
      "66/66 [==============================] - 11s 159ms/step - loss: 1.7650 - accuracy: 0.4551 - val_loss: 1.3572 - val_accuracy: 0.5628\n",
      "Epoch 7/90\n",
      "66/66 [==============================] - 11s 160ms/step - loss: 1.7852 - accuracy: 0.4692 - val_loss: 1.5048 - val_accuracy: 0.6628\n",
      "Epoch 8/90\n",
      "66/66 [==============================] - 11s 159ms/step - loss: 1.7054 - accuracy: 0.4808 - val_loss: 1.0336 - val_accuracy: 0.7038\n",
      "Epoch 9/90\n",
      "66/66 [==============================] - 11s 159ms/step - loss: 1.6150 - accuracy: 0.5111 - val_loss: 1.0176 - val_accuracy: 0.6808\n",
      "Epoch 10/90\n",
      "66/66 [==============================] - 11s 160ms/step - loss: 1.5285 - accuracy: 0.5263 - val_loss: 1.1763 - val_accuracy: 0.6821\n",
      "Epoch 11/90\n",
      "66/66 [==============================] - 10s 158ms/step - loss: 1.5091 - accuracy: 0.5485 - val_loss: 0.9578 - val_accuracy: 0.6808\n",
      "Epoch 12/90\n",
      "66/66 [==============================] - 11s 160ms/step - loss: 1.3923 - accuracy: 0.5798 - val_loss: 1.0219 - val_accuracy: 0.6936\n",
      "Epoch 13/90\n",
      "66/66 [==============================] - 11s 161ms/step - loss: 1.4167 - accuracy: 0.5697 - val_loss: 1.3258 - val_accuracy: 0.7154\n",
      "Epoch 14/90\n",
      "66/66 [==============================] - 10s 158ms/step - loss: 1.4049 - accuracy: 0.5803 - val_loss: 0.6479 - val_accuracy: 0.7244\n",
      "Epoch 15/90\n",
      "66/66 [==============================] - 10s 158ms/step - loss: 1.3790 - accuracy: 0.5854 - val_loss: 0.7959 - val_accuracy: 0.7487\n",
      "Epoch 16/90\n",
      "66/66 [==============================] - 10s 159ms/step - loss: 1.2855 - accuracy: 0.6005 - val_loss: 0.9629 - val_accuracy: 0.7244\n",
      "Epoch 17/90\n",
      "66/66 [==============================] - 10s 158ms/step - loss: 1.3258 - accuracy: 0.5919 - val_loss: 0.8037 - val_accuracy: 0.7051\n",
      "Epoch 18/90\n",
      "66/66 [==============================] - 10s 158ms/step - loss: 1.3225 - accuracy: 0.5924 - val_loss: 0.7305 - val_accuracy: 0.7500\n",
      "Epoch 19/90\n",
      "66/66 [==============================] - 10s 157ms/step - loss: 1.2913 - accuracy: 0.6146 - val_loss: 0.7868 - val_accuracy: 0.7359\n",
      "Epoch 20/90\n",
      "66/66 [==============================] - 11s 160ms/step - loss: 1.2619 - accuracy: 0.6167 - val_loss: 0.9833 - val_accuracy: 0.7154\n",
      "Epoch 21/90\n",
      "66/66 [==============================] - 11s 161ms/step - loss: 1.2000 - accuracy: 0.6348 - val_loss: 0.8665 - val_accuracy: 0.7449\n",
      "Epoch 22/90\n",
      "66/66 [==============================] - 10s 158ms/step - loss: 1.2559 - accuracy: 0.6091 - val_loss: 0.7926 - val_accuracy: 0.7308\n",
      "Epoch 23/90\n",
      "66/66 [==============================] - 10s 158ms/step - loss: 1.2155 - accuracy: 0.6303 - val_loss: 0.8556 - val_accuracy: 0.7615\n",
      "Epoch 24/90\n",
      "66/66 [==============================] - 10s 158ms/step - loss: 1.1959 - accuracy: 0.6379 - val_loss: 0.6131 - val_accuracy: 0.7821\n",
      "Epoch 25/90\n",
      "66/66 [==============================] - 10s 159ms/step - loss: 1.1993 - accuracy: 0.6379 - val_loss: 0.6114 - val_accuracy: 0.7551\n",
      "Epoch 26/90\n",
      "66/66 [==============================] - 10s 158ms/step - loss: 1.2073 - accuracy: 0.6338 - val_loss: 0.7946 - val_accuracy: 0.7833\n",
      "Epoch 27/90\n",
      "66/66 [==============================] - 10s 159ms/step - loss: 1.1587 - accuracy: 0.6490 - val_loss: 0.6491 - val_accuracy: 0.7769\n",
      "Epoch 28/90\n",
      "66/66 [==============================] - 11s 160ms/step - loss: 1.1470 - accuracy: 0.6530 - val_loss: 0.9809 - val_accuracy: 0.7731\n",
      "Epoch 29/90\n",
      "66/66 [==============================] - 10s 159ms/step - loss: 1.1167 - accuracy: 0.6631 - val_loss: 0.8651 - val_accuracy: 0.7474\n",
      "Epoch 30/90\n",
      "66/66 [==============================] - 11s 160ms/step - loss: 1.1258 - accuracy: 0.6591 - val_loss: 1.3181 - val_accuracy: 0.7885\n",
      "Epoch 31/90\n",
      "66/66 [==============================] - 11s 160ms/step - loss: 1.1280 - accuracy: 0.6460 - val_loss: 0.5778 - val_accuracy: 0.7333\n",
      "Epoch 32/90\n",
      "66/66 [==============================] - 10s 158ms/step - loss: 1.0962 - accuracy: 0.6561 - val_loss: 0.3244 - val_accuracy: 0.7628\n",
      "Epoch 33/90\n",
      "66/66 [==============================] - 10s 158ms/step - loss: 1.0862 - accuracy: 0.6768 - val_loss: 0.7131 - val_accuracy: 0.7731\n",
      "Epoch 34/90\n",
      "66/66 [==============================] - 10s 157ms/step - loss: 1.1130 - accuracy: 0.6732 - val_loss: 0.7065 - val_accuracy: 0.7577\n",
      "Epoch 35/90\n",
      "66/66 [==============================] - 10s 159ms/step - loss: 1.0493 - accuracy: 0.6732 - val_loss: 1.1463 - val_accuracy: 0.7897\n",
      "Epoch 36/90\n",
      "66/66 [==============================] - 11s 159ms/step - loss: 1.0921 - accuracy: 0.6606 - val_loss: 0.8239 - val_accuracy: 0.8115\n",
      "Epoch 37/90\n",
      "66/66 [==============================] - 10s 158ms/step - loss: 1.1193 - accuracy: 0.6626 - val_loss: 1.0125 - val_accuracy: 0.8038\n",
      "Epoch 38/90\n",
      "66/66 [==============================] - 10s 158ms/step - loss: 1.1023 - accuracy: 0.6626 - val_loss: 0.3888 - val_accuracy: 0.7718\n",
      "Epoch 39/90\n",
      "66/66 [==============================] - 10s 158ms/step - loss: 1.0767 - accuracy: 0.6641 - val_loss: 0.7269 - val_accuracy: 0.7667\n",
      "Epoch 40/90\n",
      "66/66 [==============================] - 11s 159ms/step - loss: 1.0337 - accuracy: 0.6788 - val_loss: 1.1535 - val_accuracy: 0.7910\n",
      "Epoch 41/90\n",
      "66/66 [==============================] - 10s 159ms/step - loss: 1.0741 - accuracy: 0.6838 - val_loss: 0.6581 - val_accuracy: 0.7923\n",
      "Epoch 42/90\n",
      "66/66 [==============================] - 10s 158ms/step - loss: 1.0039 - accuracy: 0.6813 - val_loss: 0.4493 - val_accuracy: 0.7705\n",
      "Epoch 43/90\n",
      "66/66 [==============================] - 11s 160ms/step - loss: 1.0905 - accuracy: 0.6551 - val_loss: 0.5840 - val_accuracy: 0.7936\n",
      "Epoch 44/90\n",
      "66/66 [==============================] - 11s 159ms/step - loss: 1.1000 - accuracy: 0.6601 - val_loss: 0.8795 - val_accuracy: 0.7641\n",
      "Epoch 45/90\n",
      "66/66 [==============================] - 10s 158ms/step - loss: 1.0080 - accuracy: 0.6919 - val_loss: 0.4241 - val_accuracy: 0.7949\n",
      "Epoch 46/90\n",
      "66/66 [==============================] - 10s 158ms/step - loss: 1.0557 - accuracy: 0.6904 - val_loss: 0.3857 - val_accuracy: 0.7897\n",
      "Epoch 47/90\n",
      "66/66 [==============================] - 10s 159ms/step - loss: 1.0427 - accuracy: 0.6758 - val_loss: 1.1414 - val_accuracy: 0.7359\n",
      "Epoch 48/90\n",
      "66/66 [==============================] - 10s 159ms/step - loss: 1.0985 - accuracy: 0.6561 - val_loss: 0.9174 - val_accuracy: 0.7744\n",
      "Epoch 49/90\n",
      "66/66 [==============================] - 11s 159ms/step - loss: 1.0348 - accuracy: 0.6843 - val_loss: 0.4188 - val_accuracy: 0.8346\n",
      "Epoch 50/90\n",
      "66/66 [==============================] - 11s 162ms/step - loss: 1.0373 - accuracy: 0.6828 - val_loss: 0.9066 - val_accuracy: 0.7731\n",
      "Epoch 51/90\n",
      "66/66 [==============================] - 11s 160ms/step - loss: 0.9958 - accuracy: 0.6975 - val_loss: 0.5144 - val_accuracy: 0.7923\n",
      "Epoch 52/90\n",
      "66/66 [==============================] - 11s 159ms/step - loss: 1.0368 - accuracy: 0.6939 - val_loss: 0.7355 - val_accuracy: 0.8026\n",
      "Epoch 53/90\n",
      "66/66 [==============================] - 10s 159ms/step - loss: 0.9379 - accuracy: 0.7056 - val_loss: 0.9055 - val_accuracy: 0.8064\n",
      "Epoch 54/90\n",
      "66/66 [==============================] - 11s 159ms/step - loss: 1.0399 - accuracy: 0.6763 - val_loss: 0.8441 - val_accuracy: 0.7821\n",
      "Epoch 55/90\n",
      "66/66 [==============================] - 10s 158ms/step - loss: 1.0246 - accuracy: 0.6924 - val_loss: 0.6050 - val_accuracy: 0.8103\n",
      "Epoch 56/90\n",
      "66/66 [==============================] - 10s 159ms/step - loss: 1.0247 - accuracy: 0.6758 - val_loss: 0.7153 - val_accuracy: 0.8205\n",
      "Epoch 57/90\n",
      "66/66 [==============================] - 10s 158ms/step - loss: 0.9616 - accuracy: 0.6985 - val_loss: 0.7436 - val_accuracy: 0.8038\n",
      "Epoch 58/90\n",
      "66/66 [==============================] - 11s 160ms/step - loss: 0.9985 - accuracy: 0.6904 - val_loss: 0.8541 - val_accuracy: 0.7872\n",
      "Epoch 59/90\n",
      "66/66 [==============================] - 11s 162ms/step - loss: 0.9601 - accuracy: 0.7045 - val_loss: 0.7014 - val_accuracy: 0.8090\n",
      "Epoch 60/90\n",
      "66/66 [==============================] - 10s 159ms/step - loss: 0.9468 - accuracy: 0.7101 - val_loss: 0.4174 - val_accuracy: 0.7872\n",
      "Epoch 61/90\n",
      "66/66 [==============================] - 10s 158ms/step - loss: 0.9939 - accuracy: 0.6919 - val_loss: 0.3712 - val_accuracy: 0.8205\n",
      "Epoch 62/90\n",
      "66/66 [==============================] - 10s 159ms/step - loss: 0.9570 - accuracy: 0.7096 - val_loss: 0.8750 - val_accuracy: 0.7872\n",
      "Epoch 63/90\n",
      "66/66 [==============================] - 10s 158ms/step - loss: 0.9796 - accuracy: 0.7005 - val_loss: 0.6412 - val_accuracy: 0.8308\n",
      "Epoch 64/90\n",
      "66/66 [==============================] - 10s 158ms/step - loss: 0.9592 - accuracy: 0.6985 - val_loss: 0.7939 - val_accuracy: 0.8090\n",
      "Epoch 65/90\n",
      "66/66 [==============================] - 10s 158ms/step - loss: 0.9879 - accuracy: 0.6944 - val_loss: 0.8318 - val_accuracy: 0.7821\n",
      "Epoch 66/90\n",
      "66/66 [==============================] - 10s 158ms/step - loss: 0.9955 - accuracy: 0.6838 - val_loss: 0.4408 - val_accuracy: 0.7872\n",
      "Epoch 67/90\n",
      "66/66 [==============================] - 11s 160ms/step - loss: 0.9881 - accuracy: 0.6859 - val_loss: 0.7931 - val_accuracy: 0.8064\n",
      "Epoch 68/90\n",
      "66/66 [==============================] - 10s 158ms/step - loss: 1.0179 - accuracy: 0.6854 - val_loss: 0.7608 - val_accuracy: 0.7949\n",
      "Epoch 69/90\n",
      "66/66 [==============================] - 10s 158ms/step - loss: 0.9713 - accuracy: 0.6955 - val_loss: 0.9113 - val_accuracy: 0.8179\n",
      "Epoch 70/90\n",
      "66/66 [==============================] - 10s 158ms/step - loss: 0.9705 - accuracy: 0.6965 - val_loss: 0.6597 - val_accuracy: 0.7987\n",
      "Epoch 71/90\n",
      "66/66 [==============================] - 10s 159ms/step - loss: 0.9804 - accuracy: 0.6924 - val_loss: 0.3159 - val_accuracy: 0.8487\n",
      "Epoch 72/90\n",
      "66/66 [==============================] - 10s 158ms/step - loss: 0.9595 - accuracy: 0.7061 - val_loss: 0.4729 - val_accuracy: 0.8090\n",
      "Epoch 73/90\n",
      "66/66 [==============================] - 10s 157ms/step - loss: 0.9463 - accuracy: 0.7071 - val_loss: 0.5773 - val_accuracy: 0.7756\n",
      "Epoch 74/90\n",
      "66/66 [==============================] - 10s 159ms/step - loss: 0.9519 - accuracy: 0.7010 - val_loss: 0.8346 - val_accuracy: 0.7936\n",
      "Epoch 75/90\n",
      "66/66 [==============================] - 10s 159ms/step - loss: 0.9232 - accuracy: 0.7000 - val_loss: 0.3335 - val_accuracy: 0.8282\n",
      "Epoch 76/90\n",
      "66/66 [==============================] - 10s 158ms/step - loss: 0.9732 - accuracy: 0.7005 - val_loss: 0.6158 - val_accuracy: 0.7949\n",
      "Epoch 77/90\n",
      "66/66 [==============================] - 10s 158ms/step - loss: 0.9696 - accuracy: 0.7051 - val_loss: 0.7795 - val_accuracy: 0.8013\n",
      "Epoch 78/90\n",
      "66/66 [==============================] - 10s 158ms/step - loss: 0.8773 - accuracy: 0.7364 - val_loss: 1.0565 - val_accuracy: 0.7679\n",
      "Epoch 79/90\n",
      "66/66 [==============================] - 10s 159ms/step - loss: 0.9004 - accuracy: 0.7192 - val_loss: 0.6950 - val_accuracy: 0.8051\n",
      "Epoch 80/90\n",
      "66/66 [==============================] - 11s 162ms/step - loss: 0.9504 - accuracy: 0.7192 - val_loss: 0.7368 - val_accuracy: 0.7923\n",
      "Epoch 81/90\n",
      "66/66 [==============================] - 10s 158ms/step - loss: 0.9322 - accuracy: 0.7227 - val_loss: 0.7166 - val_accuracy: 0.8103\n",
      "Epoch 82/90\n",
      "66/66 [==============================] - 11s 159ms/step - loss: 0.9200 - accuracy: 0.7126 - val_loss: 1.0825 - val_accuracy: 0.7949\n",
      "Epoch 83/90\n",
      "66/66 [==============================] - 10s 159ms/step - loss: 0.9691 - accuracy: 0.6949 - val_loss: 0.6979 - val_accuracy: 0.7987\n",
      "Epoch 84/90\n",
      "66/66 [==============================] - 10s 158ms/step - loss: 0.9259 - accuracy: 0.7101 - val_loss: 0.5393 - val_accuracy: 0.7974\n",
      "Epoch 85/90\n",
      "66/66 [==============================] - 10s 158ms/step - loss: 0.9268 - accuracy: 0.7146 - val_loss: 0.7083 - val_accuracy: 0.8244\n",
      "Epoch 86/90\n",
      "66/66 [==============================] - 10s 159ms/step - loss: 0.9469 - accuracy: 0.7025 - val_loss: 0.5298 - val_accuracy: 0.8128\n",
      "Epoch 87/90\n",
      "66/66 [==============================] - 10s 158ms/step - loss: 0.9551 - accuracy: 0.7035 - val_loss: 0.9481 - val_accuracy: 0.8064\n",
      "Epoch 88/90\n",
      "66/66 [==============================] - 10s 158ms/step - loss: 0.8838 - accuracy: 0.7278 - val_loss: 0.5022 - val_accuracy: 0.8128\n",
      "Epoch 89/90\n",
      "66/66 [==============================] - 11s 160ms/step - loss: 0.9044 - accuracy: 0.7258 - val_loss: 0.8823 - val_accuracy: 0.8013\n",
      "Epoch 90/90\n",
      "66/66 [==============================] - 10s 159ms/step - loss: 0.8211 - accuracy: 0.7394 - val_loss: 0.4623 - val_accuracy: 0.8218\n"
     ]
    },
    {
     "data": {
      "text/plain": [
       "<keras.callbacks.callbacks.History at 0x7f3806dc0c50>"
      ]
     },
     "execution_count": 22,
     "metadata": {
      "tags": []
     },
     "output_type": "execute_result"
    }
   ],
   "source": [
    "steps_per_epoch=2000\n",
    "validation_steps=800\n",
    "epochs=90\n",
    "\n",
    "#training the model\n",
    "model.fit_generator(\n",
    "        train_generator,\n",
    "        steps_per_epoch=steps_per_epoch // batch_size,\n",
    "        epochs=epochs,\n",
    "        validation_data=validation_generator,\n",
    "        validation_steps=validation_steps // batch_size)"
   ]
  },
  {
   "cell_type": "code",
   "execution_count": 23,
   "metadata": {
    "colab": {},
    "colab_type": "code",
    "id": "hagclvbmzqm5"
   },
   "outputs": [],
   "source": [
    "#to save model for future use\n",
    "model.save('katogha.h5')"
   ]
  },
  {
   "cell_type": "code",
   "execution_count": null,
   "metadata": {
    "colab": {},
    "colab_type": "code",
    "id": "DHmXx_iszqm7"
   },
   "outputs": [],
   "source": []
  },
  {
   "cell_type": "code",
   "execution_count": 24,
   "metadata": {
    "colab": {
     "base_uri": "https://localhost:8080/",
     "height": 530
    },
    "colab_type": "code",
    "id": "rsel_D75zqm9",
    "outputId": "2c5e71cc-e8ab-49b3-8b37-f81cee9e4ff5"
   },
   "outputs": [
    {
     "data": {
      "image/png": "[encoded data removed]",
      "text/plain": [
       "<Figure size 432x288 with 1 Axes>"
      ]
     },
     "metadata": {
      "needs_background": "light",
      "tags": []
     },
     "output_type": "display_data"
    },
    {
     "data": {
      "image/png": "[encoded data removed]",
      "text/plain": [
       "<Figure size 432x288 with 1 Axes>"
      ]
     },
     "metadata": {
      "needs_background": "light",
      "tags": []
     },
     "output_type": "display_data"
    },
    {
     "data": {
      "text/plain": [
       "<Figure size 432x288 with 0 Axes>"
      ]
     },
     "metadata": {
      "tags": []
     },
     "output_type": "display_data"
    }
   ],
   "source": [
    "# loss\n",
    "plt.plot(model.history.history['loss'], label='train loss')\n",
    "plt.plot(model.history.history['val_loss'], label='val loss')\n",
    "plt.legend()\n",
    "plt.show()\n",
    "plt.savefig('LossVal_loss')\n",
    "\n",
    "# accuracies\n",
    "plt.plot(model.history.history['accuracy'], label='train acc')\n",
    "plt.plot(model.history.history['val_accuracy'], label='val acc')\n",
    "plt.legend()\n",
    "plt.show()\n",
    "plt.savefig('AccVal_acc')\n"
   ]
  },
  {
   "cell_type": "code",
   "execution_count": 52,
   "metadata": {
    "colab": {},
    "colab_type": "code",
    "id": "ffIkKzJhzqnA"
   },
   "outputs": [],
   "source": [
    "#letter in Nepali devanagari"
   ]
  },
  {
   "cell_type": "code",
   "execution_count": 20,
   "metadata": {
    "colab": {},
    "colab_type": "code",
    "id": "KRLJPPN0Ad6i"
   },
   "outputs": [],
   "source": [
    "a=np.array(['yna','taamatar','thaa','daa','dhaa','adna','tabala','tha','da','dha','ka','na','pa','pha','ba','bha','ma','yaw','ra','la','waw','kha','motosaw','petchiryakha','patalosaw','ha','chhya','tra','gya','ga','gha','kna','cha','chha','ja','jha'])"
   ]
  },
  {
   "cell_type": "code",
   "execution_count": 27,
   "metadata": {
    "colab": {
     "base_uri": "https://localhost:8080/",
     "height": 304
    },
    "colab_type": "code",
    "id": "0E9cCwY6zqnE",
    "outputId": "7056cbe8-6e44-4174-886b-0a18da34425e"
   },
   "outputs": [
    {
     "name": "stderr",
     "output_type": "stream",
     "text": [
      "Clipping input data to the valid range for imshow with RGB data ([0..1] for floats or [0..255] for integers).\n"
     ]
    },
    {
     "name": "stdout",
     "output_type": "stream",
     "text": [
      "22\n"
     ]
    },
    {
     "data": {
      "text/plain": [
       "'motosaw'"
      ]
     },
     "execution_count": 27,
     "metadata": {},
     "output_type": "execute_result"
    },
    {
     "data": {
      "image/png": "[encoded data removed]",
      "text/plain": [
       "<Figure size 432x288 with 1 Axes>"
      ]
     },
     "metadata": {
      "needs_background": "light"
     },
     "output_type": "display_data"
    }
   ],
   "source": [
    "path=\"C:/Users/Sumit/Downloads/New folder (3)/data/Test_data/character_30_motosaw/2867.png\"  #enter  path of predecting image\n",
    "\n",
    "from keras.preprocessing.image import ImageDataGenerator, array_to_img, img_to_array, load_img\n",
    "test=load_img(path,grayscale=False,target_size=(150,150))\n",
    "test1 = img_to_array(test)\n",
    "test1.shape\n",
    "import matplotlib.pyplot as plt\n",
    "\n",
    "plt.imshow(test1.reshape(150,150,3))\n",
    "test1=test1/255\n",
    "\n",
    "\n",
    "y=model.predict(test1.reshape(1,150,150,3))\n",
    "p=np.argmax(y)\n",
    "print(p)\n",
    "a[p]"
   ]
  },
  {
   "cell_type": "code",
   "execution_count": null,
   "metadata": {},
   "outputs": [],
   "source": []
  },
  {
   "cell_type": "code",
   "execution_count": null,
   "metadata": {},
   "outputs": [],
   "source": []
  },
  {
   "cell_type": "code",
   "execution_count": null,
   "metadata": {},
   "outputs": [],
   "source": []
  },
  {
   "cell_type": "code",
   "execution_count": null,
   "metadata": {},
   "outputs": [],
   "source": []
  },
  {
   "cell_type": "markdown",
   "metadata": {
    "colab": {},
    "colab_type": "code",
    "id": "4C6-4ElrzqnG"
   },
   "source": [
    "####for those who only want to load model and test the prediction"
   ]
  },
  {
   "cell_type": "markdown",
   "metadata": {},
   "source": [
    "1>open [model](https://drive.google.com/file/d/1UY4wQb-U7B0CqAVcSjMJKYb2r346286w/view?usp=sharing) in new tab\n",
    "\n",
    "\n",
    "2>and then put the model in same folder"
   ]
  },
  {
   "cell_type": "markdown",
   "metadata": {},
   "source": []
  },
  {
   "cell_type": "code",
   "execution_count": 3,
   "metadata": {
    "colab": {},
    "colab_type": "code",
    "id": "SMDA7Ga2zqnI"
   },
   "outputs": [],
   "source": [
    "from tensorflow import keras\n",
    "import numpy as np\n",
    "\n",
    "model = keras.models.load_model('katogha.h5')  #to load the model"
   ]
  },
  {
   "cell_type": "code",
   "execution_count": 33,
   "metadata": {
    "colab": {},
    "colab_type": "code",
    "id": "AEgUH95szqnK"
   },
   "outputs": [],
   "source": [
    "a=np.array(['yna','taamatar','thaa','daa','dhaa','adna','tabala','tha','da','dha','ka','na','pa','pha','ba','bha','ma','yaw','ra','la','waw','kha','motosaw','petchiryakha','patalosaw','ha','chhya','tra','gya','ga','gha','kna','cha','chha','ja','jha'])"
   ]
  },
  {
   "cell_type": "markdown",
   "metadata": {},
   "source": [
    "1> download and extract [data (2).zip](%5Bmodel%5D%28https://drive.google.com/file/d/1UY4wQb-U7B0CqAVcSjMJKYb2r346286w/view?usp=sharing%29) in same folder\n"
   ]
  },
  {
   "cell_type": "code",
   "execution_count": 31,
   "metadata": {},
   "outputs": [
    {
     "data": {
      "text/plain": [
       "36"
      ]
     },
     "execution_count": 31,
     "metadata": {},
     "output_type": "execute_result"
    }
   ],
   "source": [
    "len(a)"
   ]
  },
  {
   "cell_type": "code",
   "execution_count": 36,
   "metadata": {
    "colab": {
     "base_uri": "https://localhost:8080/",
     "height": 34
    },
    "colab_type": "code",
    "id": "N85pLxN7zqnM",
    "outputId": "65c91952-c803-4a56-d247-88b8e9f38f86"
   },
   "outputs": [
    {
     "name": "stderr",
     "output_type": "stream",
     "text": [
      "Clipping input data to the valid range for imshow with RGB data ([0..1] for floats or [0..255] for integers).\n"
     ]
    },
    {
     "name": "stdout",
     "output_type": "stream",
     "text": [
      "21\n"
     ]
    },
    {
     "data": {
      "text/plain": [
       "'kha'"
      ]
     },
     "execution_count": 36,
     "metadata": {},
     "output_type": "execute_result"
    },
    {
     "data": {
      "image/png": "[encoded data removed]",
      "text/plain": [
       "<Figure size 432x288 with 1 Axes>"
      ]
     },
     "metadata": {
      "needs_background": "light"
     },
     "output_type": "display_data"
    }
   ],
   "source": [
    "path=\"C:/Users/Sumit/Downloads/New folder (3)/data/Test_data/character_2_kha/2787.png\"  #enter  path of predecting image\n",
    "\n",
    "from keras.preprocessing.image import ImageDataGenerator, array_to_img, img_to_array, load_img\n",
    "test=load_img(path,grayscale=False,target_size=(150,150))\n",
    "test1 = img_to_array(test)\n",
    "test1.shape\n",
    "import matplotlib.pyplot as plt\n",
    "\n",
    "plt.imshow(test1.reshape(150,150,3))\n",
    "test1=test1/255\n",
    "\n",
    "\n",
    "y=model.predict(test1.reshape(1,150,150,3))\n",
    "p=np.argmax(y)\n",
    "print(p)\n",
    "a[p]"
   ]
  },
  {
   "cell_type": "code",
   "execution_count": null,
   "metadata": {
    "colab": {},
    "colab_type": "code",
    "id": "rY96nVYSzqnP"
   },
   "outputs": [],
   "source": []
  },
  {
   "cell_type": "code",
   "execution_count": null,
   "metadata": {},
   "outputs": [],
   "source": []
  },
  {
   "cell_type": "code",
   "execution_count": null,
   "metadata": {},
   "outputs": [],
   "source": []
  },
  {
   "cell_type": "code",
   "execution_count": null,
   "metadata": {},
   "outputs": [],
   "source": []
  },
  {
   "cell_type": "code",
   "execution_count": null,
   "metadata": {},
   "outputs": [],
   "source": []
  },
  {
   "cell_type": "markdown",
   "metadata": {},
   "source": [
    "FOR OPEN CV LIVE DETECTION"
   ]
  },
  {
   "cell_type": "code",
   "execution_count": 43,
   "metadata": {},
   "outputs": [
    {
     "name": "stdout",
     "output_type": "stream",
     "text": [
      "30\n",
      "30\n",
      "30\n",
      "28\n",
      "21\n",
      "28\n",
      "28\n",
      "28\n",
      "28\n",
      "28\n",
      "28\n",
      "28\n",
      "28\n",
      "28\n",
      "30\n",
      "30\n"
     ]
    }
   ],
   "source": [
    "import cv2\n",
    "import numpy as np\n",
    "from keras.preprocessing.image import ImageDataGenerator, array_to_img, img_to_array, load_img\n",
    "\n",
    "def predict(model, X_test):\n",
    "    logits = model.predict(X_test)\n",
    "    return np.argmax(logits)\n",
    "while True:\n",
    "    frame =cv2.VideoCapture(0)\n",
    "    ret, img = frame.read()\n",
    "\n",
    "    if ret:\n",
    "        img = cv2.resize(img, (150,150))\n",
    "        img= cv2.cvtColor(img, cv2.COLOR_BGR2RGB)\n",
    "        cv2.imshow('Main', img)\n",
    "        \n",
    "        #test=load_img(path, grayscale=False ,target_size=(150,150))\n",
    "        test1 = img_to_array(img)\n",
    "        test1.shape\n",
    "        test1=test1/255\n",
    "        \n",
    "        \n",
    "        '''# adhere to TS graph input structure\n",
    "#         numpy_frame = np.asarray(frame)\n",
    "#         numpy_frame = cv2.normalize(numpy_frame.astype('int'), None, -0.5, .5, cv2.NORM_MINMAX)\n",
    "        img = img.astype('float16')\n",
    "        #img = np.expand_dims(img, axis=0)'''\n",
    "        img=test1.reshape(1,150,150,3)\n",
    "        #img=img/255\n",
    "        print(predict(model ,img)-1)\n",
    "       \n",
    "\n",
    "        \n",
    "\n",
    "    if cv2.waitKey(1) & 0xFF == ord('q'):\n",
    "        break\n",
    "\n",
    "#camera.release()\n",
    "cv2.destroyAllWindows()\n",
    "            "
   ]
  },
  {
   "cell_type": "code",
   "execution_count": 44,
   "metadata": {},
   "outputs": [
    {
     "name": "stdout",
     "output_type": "stream",
     "text": [
      "kha\n"
     ]
    }
   ],
   "source": [
    "print(a[21])"
   ]
  },
  {
   "cell_type": "code",
   "execution_count": null,
   "metadata": {},
   "outputs": [],
   "source": []
  },
  {
   "cell_type": "code",
   "execution_count": null,
   "metadata": {},
   "outputs": [],
   "source": []
  },
  {
   "cell_type": "code",
   "execution_count": null,
   "metadata": {},
   "outputs": [],
   "source": []
  },
  {
   "cell_type": "code",
   "execution_count": null,
   "metadata": {},
   "outputs": [],
   "source": []
  },
  {
   "cell_type": "code",
   "execution_count": null,
   "metadata": {},
   "outputs": [],
   "source": []
  },
  {
   "cell_type": "code",
   "execution_count": null,
   "metadata": {},
   "outputs": [],
   "source": []
  }
 ],
 "metadata": {
  "accelerator": "GPU",
  "colab": {
   "name": "Nepali devanagari Classifier(Ka,Kha,Ga).ipynb",
   "provenance": []
  },
  "kernelspec": {
   "display_name": "Python 3",
   "language": "python",
   "name": "python3"
  },
  "language_info": {
   "codemirror_mode": {
    "name": "ipython",
    "version": 3
   },
   "file_extension": ".py",
   "mimetype": "text/x-python",
   "name": "python",
   "nbconvert_exporter": "python",
   "pygments_lexer": "ipython3",
   "version": "3.7.7"
  }
 },
 "nbformat": 4,
 "nbformat_minor": 1
}
